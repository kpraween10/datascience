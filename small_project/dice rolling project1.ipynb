{
 "cells": [
  {
   "cell_type": "code",
   "execution_count": 4,
   "metadata": {},
   "outputs": [],
   "source": [
    "def rolldice():\n",
    "    import random\n",
    "    again='True'\n",
    "    while again:\n",
    "            ask=input(\"Do you want to roll the dice (yes_or y/anyother value means no)\")\n",
    "            if ask.lower()=='yes'or ask.lower()=='y':\n",
    "                a=random.randint(1,6)\n",
    "                if a==5:\n",
    "                     print(''' __________\n",
    "|          |\n",
    "|  °    °  |\n",
    "|    °     |\n",
    "|  °    °  |\n",
    "|__________|''')\n",
    "                elif a==1:\n",
    "                    print(''' __________\n",
    "|          |\n",
    "|          |\n",
    "|    °     |\n",
    "|          |\n",
    "|__________|''')\n",
    "                elif a==4:\n",
    "                    print(''' __________\n",
    "|          |\n",
    "|  °    °  |\n",
    "|          |\n",
    "|  °    °  |\n",
    "|__________|''')\n",
    "                elif a==3:\n",
    "                    print(''' __________\n",
    "|          |\n",
    "|       °  |\n",
    "|    °     |\n",
    "|  °       |\n",
    "|__________|''')\n",
    "                elif a==2:\n",
    "                    print(''' __________\n",
    "|          |\n",
    "|  °       |\n",
    "|          |\n",
    "|       °  |\n",
    "|__________|''')\n",
    "                else:\n",
    "                    print(''' __________\n",
    "|          |\n",
    "|  °    °  |\n",
    "|  °    °  |\n",
    "|  °    °  |\n",
    "|__________|''')\n",
    "                continue\n",
    "            else:\n",
    "                print('ended')\n",
    "                break"
   ]
  },
  {
   "cell_type": "code",
   "execution_count": 5,
   "metadata": {},
   "outputs": [
    {
     "name": "stdout",
     "output_type": "stream",
     "text": [
      "Do you want to roll the dice (yes_or y/anyother value means no)y\n",
      " __________\n",
      "|          |\n",
      "|  °    °  |\n",
      "|  °    °  |\n",
      "|  °    °  |\n",
      "|__________|\n",
      "Do you want to roll the dice (yes_or y/anyother value means no)y\n",
      " __________\n",
      "|          |\n",
      "|       °  |\n",
      "|    °     |\n",
      "|  °       |\n",
      "|__________|\n",
      "Do you want to roll the dice (yes_or y/anyother value means no)y\n",
      " __________\n",
      "|          |\n",
      "|          |\n",
      "|    °     |\n",
      "|          |\n",
      "|__________|\n",
      "Do you want to roll the dice (yes_or y/anyother value means no)n\n",
      "ended\n"
     ]
    }
   ],
   "source": [
    "rolldice()\n"
   ]
  },
  {
   "cell_type": "code",
   "execution_count": null,
   "metadata": {},
   "outputs": [],
   "source": []
  }
 ],
 "metadata": {
  "kernelspec": {
   "display_name": "Python 3",
   "language": "python",
   "name": "python3"
  },
  "language_info": {
   "codemirror_mode": {
    "name": "ipython",
    "version": 3
   },
   "file_extension": ".py",
   "mimetype": "text/x-python",
   "name": "python",
   "nbconvert_exporter": "python",
   "pygments_lexer": "ipython3",
   "version": "3.8.5"
  }
 },
 "nbformat": 4,
 "nbformat_minor": 4
}
