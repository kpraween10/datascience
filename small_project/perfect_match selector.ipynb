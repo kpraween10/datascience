{
 "cells": [
  {
   "cell_type": "code",
   "execution_count": 115,
   "metadata": {
    "scrolled": false
   },
   "outputs": [
    {
     "name": "stdout",
     "output_type": "stream",
     "text": [
      "enter your name:Sudhanshu\n",
      "enter the number of crush you have: 5\n",
      "enter the name of your crushes:\n",
      "Tanisha\n",
      "Chand\n",
      "Divya\n",
      "Rose\n",
      "Tanmayee\n",
      "hyy Sudhanshu, your random best matches would be:Tanisha\n",
      "Does she know you better(y/n) ?y\n",
      "Does she smile when you both see each other?(y/n)y\n",
      "do you know her birthday?(y/s)n\n",
      "does she is in connected to your social media(y/s)y\n",
      "do she likes you(y/n)y\n",
      "Total chances of both of ypu to get together is: 84 %\n",
      "Sudhanshu\n",
      "   * *     * *\n",
      " *     * *     *\n",
      "*       *       *\n",
      "*               *\n",
      " *             *\n",
      "   *         *\n",
      "     *      *\n",
      "       *  *\n",
      "         *\n",
      "Tanisha\n"
     ]
    }
   ],
   "source": [
    "import random\n",
    "prin='''   * *     * *\n",
    " *     * *     *\n",
    "*       *       *\n",
    "*               *\n",
    " *             *\n",
    "   *         *\n",
    "     *      *\n",
    "       *  *\n",
    "         *'''\n",
    "name=str(input(\"enter your name:\"))\n",
    "num=int(input(\"enter the number of crush you have: \"))\n",
    "crush=[]\n",
    "print(\"enter the name of your crushes:\")\n",
    "for i in range (num):\n",
    "    crush.append(input())\n",
    "select=random.randint(0,i)\n",
    "msb=crush[select]\n",
    "print(\"hyy \"+name+ \", your random best matches would be:\"+ msb)\n",
    "one=input(\"Does she know you better(y/n) ?\")\n",
    "if one=='y':\n",
    "    on=random.randint(27,30)\n",
    "else:\n",
    "    on=random.randint(12,15)\n",
    "two=input(\"Does she smile when you both see each other?(y/n)\")\n",
    "if two=='y':\n",
    "    tw=random.randint(15,20)\n",
    "else:\n",
    "    tw=random.randint(3,5)\n",
    "three=input(\"do your choices of things matches?(y/n)\")\n",
    "if three=='y':\n",
    "    thre=random.randint(18,20)\n",
    "else:\n",
    "    thre=random.randint(9,12)\n",
    "four=input(\"does she is in connected to your social media?(y/n)\")\n",
    "if four=='y':\n",
    "    fou=random.randint(8,10)\n",
    "else:\n",
    "    fou=random.randint(2,4)\n",
    "five=input(\"do you think she like you?(y/n)\")\n",
    "if five=='y':\n",
    "    fiv=random.randint(17,20)\n",
    "else:\n",
    "    fiv=random.randint(1,3)\n",
    "total=int(on)+int(tw)+int(thre)+int(fou)+int(fiv)\n",
    "print(\"Total chances of both of ypu to get together is:\",total,\"%\")\n",
    "print(name)\n",
    "print(prin)\n",
    "print(msb)"
   ]
  },
  {
   "cell_type": "code",
   "execution_count": null,
   "metadata": {},
   "outputs": [],
   "source": []
  }
 ],
 "metadata": {
  "kernelspec": {
   "display_name": "Python 3",
   "language": "python",
   "name": "python3"
  },
  "language_info": {
   "codemirror_mode": {
    "name": "ipython",
    "version": 3
   },
   "file_extension": ".py",
   "mimetype": "text/x-python",
   "name": "python",
   "nbconvert_exporter": "python",
   "pygments_lexer": "ipython3",
   "version": "3.8.5"
  }
 },
 "nbformat": 4,
 "nbformat_minor": 4
}
