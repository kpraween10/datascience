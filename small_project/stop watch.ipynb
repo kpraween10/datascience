{
 "cells": [
  {
   "cell_type": "code",
   "execution_count": 12,
   "metadata": {},
   "outputs": [],
   "source": [
    "def stopwatch():\n",
    "    import time\n",
    "    again='yes'\n",
    "    while again.lower()=='yes' or again.lower()=='y':\n",
    "        input(\"press enter to start: \")\n",
    "        start=time.time()\n",
    "\n",
    "        input(\"press enter to stop: \")\n",
    "        stop=time.time()\n",
    "\n",
    "        cal=stop-start\n",
    "        mins=cal//60\n",
    "        sec=cal%60\n",
    "        print(\"time-lapses\",mins,\"min\",sec,\"sec\")\n",
    "        again=input(\"enter y or yes to restart/other key ends up: \")"
   ]
  },
  {
   "cell_type": "code",
   "execution_count": 13,
   "metadata": {
    "scrolled": false
   },
   "outputs": [
    {
     "name": "stdout",
     "output_type": "stream",
     "text": [
      "press enter to start: \n",
      "press enter to stop: \n",
      "time-lapses 0.0 min 1.8606274127960205 sec\n",
      "enter y or yes to restart/other key ends up: y\n",
      "press enter to start: \n",
      "press enter to stop: \n",
      "time-lapses 0.0 min 2.7817001342773438 sec\n",
      "enter y or yes to restart/other key ends up: n\n"
     ]
    }
   ],
   "source": [
    "stopwatch()"
   ]
  },
  {
   "cell_type": "code",
   "execution_count": null,
   "metadata": {},
   "outputs": [],
   "source": []
  }
 ],
 "metadata": {
  "kernelspec": {
   "display_name": "Python 3",
   "language": "python",
   "name": "python3"
  },
  "language_info": {
   "codemirror_mode": {
    "name": "ipython",
    "version": 3
   },
   "file_extension": ".py",
   "mimetype": "text/x-python",
   "name": "python",
   "nbconvert_exporter": "python",
   "pygments_lexer": "ipython3",
   "version": "3.8.5"
  }
 },
 "nbformat": 4,
 "nbformat_minor": 4
}
