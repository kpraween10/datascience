{
 "cells": [
  {
   "cell_type": "code",
   "execution_count": 1,
   "metadata": {},
   "outputs": [],
   "source": [
    "def timer():\n",
    "    import time\n",
    "    import sys\n",
    "    stopafter=input(\"set the time in second after which it should warn and stop:  \")\n",
    "    input('press enter to start:')\n",
    "    print('\\n')\n",
    "    start=time.time()\n",
    "    while float(time.time()-start)<=float(stopafter):\n",
    "        screen=(time.time()-start)\n",
    "        pri=str(screen)\n",
    "        sys.stdout.write('\\r'+pri)\n",
    "        time.sleep(0.0000000000000000001)\n",
    "    pri=float(stopafter)\n",
    "    print('\\n')\n",
    "    print(str(pri)+\"00000000..\")\n",
    "    print('\\n','\\n')\n",
    "    print(\"STOP..!!\")\n"
   ]
  },
  {
   "cell_type": "code",
   "execution_count": 2,
   "metadata": {},
   "outputs": [
    {
     "name": "stdout",
     "output_type": "stream",
     "text": [
      "set the time in second after which it should warn and stop:  11.4\n",
      "press enter to start:\n",
      "\n",
      "\n",
      "11.390242576599121446\n",
      "\n",
      "11.400000000..\n",
      "\n",
      " \n",
      "\n",
      "STOP..!!\n"
     ]
    }
   ],
   "source": [
    "timer()"
   ]
  },
  {
   "cell_type": "code",
   "execution_count": null,
   "metadata": {},
   "outputs": [],
   "source": []
  }
 ],
 "metadata": {
  "kernelspec": {
   "display_name": "Python 3",
   "language": "python",
   "name": "python3"
  },
  "language_info": {
   "codemirror_mode": {
    "name": "ipython",
    "version": 3
   },
   "file_extension": ".py",
   "mimetype": "text/x-python",
   "name": "python",
   "nbconvert_exporter": "python",
   "pygments_lexer": "ipython3",
   "version": "3.8.5"
  }
 },
 "nbformat": 4,
 "nbformat_minor": 4
}
